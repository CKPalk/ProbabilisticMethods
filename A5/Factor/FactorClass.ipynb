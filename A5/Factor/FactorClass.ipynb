{
 "cells": [
  {
   "cell_type": "code",
   "execution_count": 1,
   "metadata": {
    "collapsed": false
   },
   "outputs": [
    {
     "ename": "NameError",
     "evalue": "name 'new_stride' is not defined",
     "output_type": "error",
     "traceback": [
      "\u001b[0;31m---------------------------------------------------------------------------\u001b[0m",
      "\u001b[0;31mNameError\u001b[0m                                 Traceback (most recent call last)",
      "\u001b[0;32m<ipython-input-1-dcb22085970e>\u001b[0m in \u001b[0;36m<module>\u001b[0;34m()\u001b[0m\n\u001b[1;32m     56\u001b[0m \u001b[0mf1\u001b[0m \u001b[0;34m=\u001b[0m \u001b[0mFactor\u001b[0m\u001b[0;34m(\u001b[0m \u001b[0;34m[\u001b[0m\u001b[0ma\u001b[0m\u001b[0;34m,\u001b[0m\u001b[0mb\u001b[0m\u001b[0;34m]\u001b[0m\u001b[0;34m,\u001b[0m \u001b[0;34m[\u001b[0m\u001b[0;36m1\u001b[0m\u001b[0;34m,\u001b[0m \u001b[0;36m2\u001b[0m\u001b[0;34m]\u001b[0m\u001b[0;34m,\u001b[0m \u001b[0;34m[\u001b[0m\u001b[0;36m4\u001b[0m\u001b[0;34m,\u001b[0m\u001b[0;36m5\u001b[0m\u001b[0;34m,\u001b[0m\u001b[0;36m6\u001b[0m\u001b[0;34m,\u001b[0m\u001b[0;36m7\u001b[0m\u001b[0;34m]\u001b[0m \u001b[0;34m)\u001b[0m\u001b[0;34m\u001b[0m\u001b[0m\n\u001b[1;32m     57\u001b[0m \u001b[0mf2\u001b[0m \u001b[0;34m=\u001b[0m \u001b[0mFactor\u001b[0m\u001b[0;34m(\u001b[0m \u001b[0;34m[\u001b[0m\u001b[0mb\u001b[0m\u001b[0;34m,\u001b[0m\u001b[0mc\u001b[0m\u001b[0;34m]\u001b[0m\u001b[0;34m,\u001b[0m \u001b[0;34m[\u001b[0m\u001b[0;36m1\u001b[0m\u001b[0;34m,\u001b[0m \u001b[0;36m3\u001b[0m\u001b[0;34m]\u001b[0m\u001b[0;34m,\u001b[0m \u001b[0;34m[\u001b[0m\u001b[0;36m8\u001b[0m\u001b[0;34m,\u001b[0m\u001b[0;36m9\u001b[0m\u001b[0;34m,\u001b[0m\u001b[0;36m10\u001b[0m\u001b[0;34m,\u001b[0m\u001b[0;36m11\u001b[0m\u001b[0;34m,\u001b[0m\u001b[0;36m12\u001b[0m\u001b[0;34m,\u001b[0m\u001b[0;36m13\u001b[0m\u001b[0;34m]\u001b[0m \u001b[0;34m)\u001b[0m\u001b[0;34m\u001b[0m\u001b[0m\n\u001b[0;32m---> 58\u001b[0;31m \u001b[0mf2\u001b[0m \u001b[0;34m*\u001b[0m \u001b[0mf1\u001b[0m\u001b[0;34m\u001b[0m\u001b[0m\n\u001b[0m",
      "\u001b[0;32m<ipython-input-1-dcb22085970e>\u001b[0m in \u001b[0;36m__mul__\u001b[0;34m(self, other)\u001b[0m\n\u001b[1;32m     42\u001b[0m         \u001b[0;31m# Calc new strides\u001b[0m\u001b[0;34m\u001b[0m\u001b[0;34m\u001b[0m\u001b[0m\n\u001b[1;32m     43\u001b[0m         \u001b[0;31m# And new valies\u001b[0m\u001b[0;34m\u001b[0m\u001b[0;34m\u001b[0m\u001b[0m\n\u001b[0;32m---> 44\u001b[0;31m         \u001b[0;32mreturn\u001b[0m \u001b[0mFactor\u001b[0m\u001b[0;34m(\u001b[0m \u001b[0mnew_rvs\u001b[0m\u001b[0;34m,\u001b[0m \u001b[0mnew_stride\u001b[0m \u001b[0;34m)\u001b[0m\u001b[0;34m\u001b[0m\u001b[0m\n\u001b[0m\u001b[1;32m     45\u001b[0m     \u001b[0;31m#\u001b[0m\u001b[0;34m\u001b[0m\u001b[0;34m\u001b[0m\u001b[0m\n\u001b[1;32m     46\u001b[0m \u001b[0;34m\u001b[0m\u001b[0m\n",
      "\u001b[0;31mNameError\u001b[0m: name 'new_stride' is not defined"
     ]
    }
   ],
   "source": [
    "class RV:\n",
    "    def __init__ (self, _var, _card ):\n",
    "        self.var = _var\n",
    "        self.card = _card\n",
    "        return\n",
    "    \n",
    "    def __iter__( self ):\n",
    "        for v in self.var:\n",
    "            yield v\n",
    "            \n",
    "    def __eq__( self, other ):\n",
    "        return ( self.var == other.var )\n",
    "\n",
    "\n",
    "class Factor:\n",
    "    def __init__( self, _rvs, _stride, _vals ):\n",
    "        # RVs\n",
    "        if type(_rvs) is not list: raise Exception( \"Constructor takes list of RV objects and stride info\")\n",
    "        if not _rvs: raise Exception( \"Factor Info passed an empty array in constructor\" )\n",
    "        if type(_rvs[0]) is not RV: raise Exception( \"Should be list of RV objects\" )\n",
    "        \n",
    "        self.rvs = _rvs\n",
    "\n",
    "        \n",
    "        # Stride\n",
    "        stride_type = type(_stride)\n",
    "        if   stride_type is dict: self.stride = _stride\n",
    "        elif stride_type is list: self.stride = {rv.var:_stride[idx] for idx, rv in enumerate( _rvs ) }\n",
    "        else: raise Exception(\"Bad stride type\")\n",
    "            \n",
    "        \n",
    "            \n",
    "        return\n",
    "    #\n",
    "\n",
    "    def __repr__( self ):\n",
    "        return ( \"Scope : {0.scope}\\n\" +\n",
    "                 \"Cards : {0.card}\\n\" +\n",
    "                 \"Stride: {0.stride}\" ).format( self )\n",
    "    #\n",
    "\n",
    "    def __mul__( self, other ):\n",
    "        new_rvs = self.rvs + other.rvs\n",
    "        # Calc new strides\n",
    "        # And new valies\n",
    "        return Factor( new_rvs, new_stride )\n",
    "    #\n",
    "    \n",
    "    def __iter__( self ):\n",
    "        yield None\n",
    "#\n",
    "        \n",
    "\n",
    "a = RV(0,2)\n",
    "b = RV(1,2)\n",
    "c = RV(2,3)\n",
    "\n",
    "f1 = Factor( [a,b], [1, 2], [4,5,6,7] )\n",
    "f2 = Factor( [b,c], [1, 3], [8,9,10,11,12,13] )\n",
    "f2 * f1"
   ]
  },
  {
   "cell_type": "raw",
   "metadata": {},
   "source": []
  }
 ],
 "metadata": {
  "kernelspec": {
   "display_name": "Python 3",
   "language": "python",
   "name": "python3"
  },
  "language_info": {
   "codemirror_mode": {
    "name": "ipython",
    "version": 3
   },
   "file_extension": ".py",
   "mimetype": "text/x-python",
   "name": "python",
   "nbconvert_exporter": "python",
   "pygments_lexer": "ipython3",
   "version": "3.5.1"
  }
 },
 "nbformat": 4,
 "nbformat_minor": 0
}
